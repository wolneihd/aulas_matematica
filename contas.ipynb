{
 "cells": [
  {
   "cell_type": "code",
   "execution_count": 443,
   "metadata": {},
   "outputs": [],
   "source": [
    "import Matematica as math\n",
    "import importlib"
   ]
  },
  {
   "cell_type": "code",
   "execution_count": 444,
   "metadata": {},
   "outputs": [],
   "source": [
    "# Forçar a recarga do módulo (by: Chatgpt)\n",
    "# importlib.reload(math)"
   ]
  },
  {
   "cell_type": "code",
   "execution_count": 445,
   "metadata": {},
   "outputs": [
    {
     "name": "stdout",
     "output_type": "stream",
     "text": [
      "[2, 7, 9, 15, 11] | 2\n",
      "[2, 7, 9, 15, 11] | 3\n",
      "[2, 7, 9, 15, 11] | 3\n",
      "[2, 7, 9, 15, 11] | 5\n",
      "[2, 7, 9, 15, 11] | 7\n",
      "[2, 7, 9, 15, 11] | 11\n",
      "6930\n"
     ]
    }
   ],
   "source": [
    "resultado = math.mmc(denominadores=[2,7,9,15,11], mostrar_conta=True)"
   ]
  }
 ],
 "metadata": {
  "kernelspec": {
   "display_name": "Python 3",
   "language": "python",
   "name": "python3"
  },
  "language_info": {
   "codemirror_mode": {
    "name": "ipython",
    "version": 3
   },
   "file_extension": ".py",
   "mimetype": "text/x-python",
   "name": "python",
   "nbconvert_exporter": "python",
   "pygments_lexer": "ipython3",
   "version": "3.12.3"
  }
 },
 "nbformat": 4,
 "nbformat_minor": 2
}
