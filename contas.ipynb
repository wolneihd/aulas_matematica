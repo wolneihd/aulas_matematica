{
 "cells": [
  {
   "cell_type": "code",
   "execution_count": 41,
   "metadata": {},
   "outputs": [],
   "source": [
    "import Matematica as math\n",
    "import importlib"
   ]
  },
  {
   "cell_type": "code",
   "execution_count": 42,
   "metadata": {},
   "outputs": [
    {
     "data": {
      "text/plain": [
       "<module 'Matematica' from 'c:\\\\Users\\\\alzir\\\\OneDrive\\\\Área de Trabalho\\\\Super DEV\\\\Aulas de Matemática\\\\aulas_matematica\\\\Matematica.py'>"
      ]
     },
     "execution_count": 42,
     "metadata": {},
     "output_type": "execute_result"
    }
   ],
   "source": [
    "# Forçar a recarga do módulo (by: Chatgpt)\n",
    "importlib.reload(math)"
   ]
  },
  {
   "cell_type": "code",
   "execution_count": 43,
   "metadata": {},
   "outputs": [
    {
     "name": "stdout",
     "output_type": "stream",
     "text": [
      "6930\n"
     ]
    }
   ],
   "source": [
    "resultado = math.mmc(denominadores=[2,7,9,15,11], mostrar_conta=False)"
   ]
  },
  {
   "cell_type": "code",
   "execution_count": 44,
   "metadata": {},
   "outputs": [
    {
     "name": "stdout",
     "output_type": "stream",
     "text": [
      "Divindo todos elementos por: 2 | [2, 7, 14, 15, 11]\n",
      "Divindo todos elementos por: 2 | [1.0, 7, 14, 15, 11]\n",
      "Divindo todos elementos por: 3 | [1.0, 7, 7.0, 15, 11]\n",
      "Divindo todos elementos por: 5 | [1.0, 7, 7.0, 5.0, 11]\n",
      "Divindo todos elementos por: 7 | [1.0, 7, 7.0, 1.0, 11]\n",
      "Divindo todos elementos por: 7 | [1.0, 1.0, 7.0, 1.0, 11]\n",
      "Divindo todos elementos por: 11 | [1.0, 1.0, 1.0, 1.0, 11]\n",
      "Resultado:  32340\n"
     ]
    }
   ],
   "source": [
    "resultado = math.mmc(denominadores=[2,7,14,15,11], mostrar_conta=True)"
   ]
  },
  {
   "cell_type": "code",
   "execution_count": 45,
   "metadata": {},
   "outputs": [
    {
     "name": "stdout",
     "output_type": "stream",
     "text": [
      "1296\n"
     ]
    }
   ],
   "source": [
    "resultado = math.potencia(a=-36, n=2)"
   ]
  }
 ],
 "metadata": {
  "kernelspec": {
   "display_name": "Python 3",
   "language": "python",
   "name": "python3"
  },
  "language_info": {
   "codemirror_mode": {
    "name": "ipython",
    "version": 3
   },
   "file_extension": ".py",
   "mimetype": "text/x-python",
   "name": "python",
   "nbconvert_exporter": "python",
   "pygments_lexer": "ipython3",
   "version": "3.12.3"
  }
 },
 "nbformat": 4,
 "nbformat_minor": 2
}
